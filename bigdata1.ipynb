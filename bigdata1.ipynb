{
 "cells": [
  {
   "cell_type": "markdown",
   "id": "b7c6b16e",
   "metadata": {},
   "source": [
    "# Kontejnerizace na úrovni operačního systému"
   ]
  },
  {
   "cell_type": "markdown",
   "id": "da784607",
   "metadata": {},
   "source": [
    "## Co se v této sekci dozvíte?\n",
    "\n",
    "* svět před kontejnerizací\n",
    "* možnosti virtualizace jednotlivých prostředků jež jsou používána aplikacemi\n",
    "* Docker = praktická kontejnerizace\n",
    "* Docker - základní použití"
   ]
  },
  {
   "cell_type": "markdown",
   "id": "6765c166",
   "metadata": {},
   "source": [
    "## Problémy vývoje a nasazení aplikací v běžném OS"
   ]
  },
  {
   "cell_type": "markdown",
   "id": "1f86759b",
   "metadata": {},
   "source": [
    "Soudobé operační systémy jsou velmi komplexními platformami, které nabízejí velké množství prostředků pro aplikace, které s nimi pracují. \n",
    "\n",
    "Jedním z klíčových úkolů operačních systémů je dosáhnnou stavu, kdy má každá aplikace pro svůj vlastní (virtuální) počítač. Výrazně to usnadňuje návrh aplikace a zajišťuje, že se aplikace navzájem negativně) neovlivňují.\n",
    "\n",
    "Už na úrovni operačního systému tak dochází k virtualiazací klíčových prostředků jako je například procesor, paměť nebo síťové připojení. Mnohé prostředky však zůstávají sdílené:\n",
    "\n",
    "* souborový systém se sdíleným i soubory např. (dynamickými) knihovnami \n",
    "* jmenný prostor TCP/IP portů\n",
    "* systémové služby v podobě stále běžících procesů (v unixové terminologii démonů)\n",
    "* systémové programy, jež jsou využívány pro vývoj a běh aplikací (včetně interpretů a překladačů vyšších programovacích jazyků)\n",
    "* uživatelské účty/skupiny využívané pro běh neinteraktivních procesů, které slouží k detailnějšímu nastavení práv (tj. nejsou využívány reálnými uživateli)\n",
    "* šířka připojení do sítě, prostor na disku\n",
    "\n",
    "Dlouhou dobu nepředstavovalo toto rozdělení žádný větší problém, neboť případné kolizi lze zabránit vhodně zvolenými jedinečnými identifikátory (různá jména souborů/adresářů, spustitelných programů, systémových uživatelů, vyhrazené TCP/IP porty apod.)\n",
    "\n",
    "Tato jednoduchá ad hoc řešení však přestala stačit v okamžiku, kdy:\n",
    "\n",
    "1. rychlý vývoj vede k nutnosti využití různých verzí sdílených prostředků (např. knihoven, interpretů)\n",
    "2. je potřeba provozovat najednou několik instancí stejné aplikace (často v různých verzích)\n",
    "3. je potřeba aplikaci hostovat v různých verzích/distribucích operačního systému resp. v různých operačních sytémech\n",
    "\n",
    "Bod (1) je typický pro většinu dnešních systému, aplikací a knihoven, u nichž vývoj běžně vede k nekompatibilitám, změnám rozhraní, apod. (tím spíše, že v mnoha případech neexistují žádné standardy). Potřeba souběžného spouštění více instancí (2) je typická pro cloudové služby (platform as service, PaaS), hostování v různých variantách OS (3) je klíčová především ve světe Linuxu, kde neexistuje centrální autorita pro podstatné části bakalářské práce.\n",
    "\n",
    "Mezi typické problémy související s prostředky, které nejsou virtualizovány na úrovni operační paměti:\n",
    "\n",
    "* použití nekompatibilní verze knihovny/interpretu\n",
    "* kolize v konfiguračních souborech\n",
    "* kolize využití TCP/IP portů (více síťových serverů využívá stejný port)\n",
    "* běh aplikace / systémových programů ovlivňuje jiné aplikace\n",
    "* kolize práv k souborům a jiným prostředkům (nemáte práva, která potřebujete, resp. máte práva, která mohou ohrozit ostatní)\n",
    "* omezování jiných procesů alokováním vzácných prostředků (paměti, šířky pásma připojení) "
   ]
  },
  {
   "cell_type": "markdown",
   "id": "d2f73c27",
   "metadata": {},
   "source": [
    "**Úkol**: S jakými problémy souvisejícími se sdílením prostředků jste se ve své praxi setkaly?"
   ]
  },
  {
   "cell_type": "markdown",
   "id": "8b96b0ad",
   "metadata": {},
   "source": [
    "## Kontejnerizace"
   ]
  },
  {
   "cell_type": "markdown",
   "id": "7cd5de89",
   "metadata": {},
   "source": [
    "Řešením je kontejnerizace tj. spuštění aplikací v prostředí, které zajišťuje, že všechny výše uvedené prostředky jsou virtualizovány tj. jsou vytvořeny náhradní prostředky, které nabízejí stejnou funkčnost, ale jsou vyhrazené tj. patří jen dané aplikaci.\n",
    "\n",
    "Poznámka: kontejnerizace se provádí i na dalších softwarových úrovních a známá je i z hardwaru.\n",
    "\n",
    "Kontejnerizaci aplikací lze provádět i na na aplikační úrovni, tj. je podporována přímo aplikací. Tento přístup však má několik nevýhod: podpora je většinou komplexní a především se její provedení a rozhraní může u jednotlivých aplikací lišit.\n",
    "\n",
    "> speciálním případem tohoto typu kontejnerizace jsou virtuální prostředí interpretrů, které nabízejí pro každý projekt prostředí s různou konfigurací překladače, nábídkou modulů a knihoven (např. `conda`).\n",
    "\n",
    "Podpora na úrovni OS na druhou stranu vyžaduje podporu přímo v jádře OS (jinak nemůže být dostatečně transparentní). Pokud tato podpora chybí je nutné virtualizovat celý OS (kontejner běží v dedikované instanci virtualizovaného OS).  To sice situaci řeší včetně podpory interperability mezi kontejnery (virtuální sítě, mountování sdílených adresářů. apod.) je to však značně neefektivní řešení, které si vede k vytváření mnoha kopií (identického) operačního systému a jeho aplikací. To prakticky znemožňuje souběžnou existenci většího počtu kontejnerizovaných aplikací (např. v řádu stovek).\n",
    "> I tento způsob kontejnerizace je v mnoha případech vhodným řešením: například tehdy pokud je aplikace závislá na velkém množství knihoven a podpůrných procesů (např. kontejnerizace GUI aplikací), resp. kontejnerizace nezávislá na platformě (některé platformy jinou možnost ani nenabízejí)\n",
    "\n",
    "**Otázka**: Jaké problémy řeší virtuální prostředí nabízené např. nástrojem `conda` (resp. které neřeší)"
   ]
  },
  {
   "cell_type": "markdown",
   "id": "cdd2d884",
   "metadata": {},
   "source": [
    "### Podpora kontejnerizace v OS Linux\n",
    "\n",
    "Výrazný pokrok v podpoře kontejnerů přinesl operační systém Linux. Unix z něhož Linux vychází některé elementární prostředky nabízel už od svých počátků (např. tzv. `chroot` umožňují omezení souborového systému na některou z jeho větví). Už s pomocí těchto prostředků byly možno vytvořit kontejnerové systémy (LXC).\n",
    "\n",
    "Současná virtualizace v Linuxu je založena na následující podpoře v jádře OS:\n",
    "* *linux kernel namespaces* (virtualizace sdílených prostředků, identifikátorů, apod.)\n",
    "* podpora *union mounting* (umožňuje kombinovat striktní oddělení se sdílením a to i uvnitř adesářů)\n",
    "* *cgroups* umožní řídit přidělování procesorového času, paměti, šířky pásma připojení k síti\n",
    "\n",
    "**Úkol**: Podívejte se na popis jmenných prostorů jádra a diskutujte jejich použitelnost při virtualizaci.\n",
    "\n",
    "Tyto prostředky jsou navrženy univerzálně a existuje tak několik systémů pro kontejnerizaci na úrovni OS. V současnosti je nejpoužívanějším systémem tohoto druhu `Docker`."
   ]
  },
  {
   "cell_type": "markdown",
   "id": "1e0076c3",
   "metadata": {},
   "source": [
    "### Docker\n",
    "\n",
    "**Conquer App Complexity** (motto Dockeru)\n",
    "\n",
    "Docker je systém pro kontejnerizaci a tak je jeho centrálním objektem **kontejner**. Kontejner je de-facto množina procesů, které běží v určitém jasně definovaném prostředí, jenž mimo jiné obsahuje:\n",
    "\n",
    "* souborový systém (včetně všech konfiguračních souborů, dat a spustitelných aplikací)\n",
    "* tcp/ip stack s unikátní siťovou adresou\n",
    "* systémové služby (démony)\n",
    "* uživatelské účty (včetně roota)\n",
    "\n",
    "Všechny tyto prostředky jsou **vyhrazené** (= patřící jen dané instanci kontejneru), některé z nich však lze mapovat na prostředky hostitelské instance OS - například adresáře či síťový subsystém.\n",
    "\n",
    "Kontejner vzniká spuštěním procesu v rámci tzv. **obrazu** (*image*). Obraz je ve své podstatě primárně souborový systém representovaný více vrstvami, kde každá vrstva vzniká jako výsledek nějakého příkazu. Kromě této (statické) části obraz definuje tzv. startovní příkaz (tj. jaký proces bude spuštěn nad výsledným souborovým systémem při instanciaci kontejneru z obrazu) a jaké bude rozhraní kontejneru s okolím.\n",
    "\n",
    "Infrastruktura Dockeru obsahuje kromě objektů i infrastrukturu pro jejich správu, která ve své minimální podobě obsahuje:\n",
    "\n",
    "**docker démon** — správce kontejnerů a obrazů, služba hostitelského operačního systému, jež komunikuje s klinty pomocí síťového Docker API\n",
    "\n",
    "**docker klient** — nástroj pomocí něhož uživatelé komunikují s docker démonem. Klasický docker klient je konzolová aplikace, jíž jsou všechny parametry přidány na příkazovém řádku.\n",
    "\n",
    "**docker repositář** (registry) — úložiště docker obrazů. Je kritickou částí docker infrastruktury, neboť obrazy mohou vznikat postupným rozšiřováním tj. přidáváním dalších vrstev. "
   ]
  },
  {
   "cell_type": "markdown",
   "id": "721c389f",
   "metadata": {},
   "source": [
    "### Instalace docker démona a klienta\n",
    "\n",
    "Instalace je detailně popsána na stránkách https://docs.docker.com/get-docker/. V další části předpokládám, že je využit docker pro Linux. \n",
    "\n",
    "**Úkol**: Nainstalujte se docker ve svém oblíbeném operačním systému  (což je předpokládám Linux)."
   ]
  },
  {
   "cell_type": "markdown",
   "id": "93f88c97",
   "metadata": {},
   "source": [
    "## Spuštění kontejneru"
   ]
  },
  {
   "cell_type": "markdown",
   "id": "ed1a9ff3",
   "metadata": {},
   "source": [
    "Spuštění kontejneru z obrazu je více než snadné, stačí použít volbu `run` příkazu `docker` a uvést jméno obrazu. Obraz je buď již ve správě lokálního démona nebo je stažen z repositáře (standardně je to repozitář https:hub.docker.com.\n",
    "\n",
    "V některých případech je nutno využít přepínače. Pro spuštění interaktivního kontejneru (tj. kontejneru, jehož aplikace musí komunikovat přes terminál) jsou to volby `-i` (keep STDIN open) a `-t` (allocate a pseudo-TTY).\n",
    "\n",
    "Následujícím příkazem spustíme v interaktivním režimu obraz s minimální instalací Alpine Linuxu. Po spuštění by se měl objevit rootovský prompt.\n",
    "\n",
    "`docker run -it alpine`\n",
    "\n",
    "**Úkol** Prozkoumejte jak izolaci kontejneru na úrovni souborového systému, procesů (`ps`) a síťové konektivity (`ifconfig`). Jak velký je souborový systém? (`du`)\n",
    "\n",
    "**Poznámka ke jménům obrazů:** Oficiální obrazy mají jednoduchá jména odpovídající označení aplikace. Na opačném pólu jsou označení typu  `user-name/aplikace:verze`. Mnohá jména jsou jen (stručnější) aliasy jmen delších."
   ]
  },
  {
   "cell_type": "markdown",
   "id": "e5de59da",
   "metadata": {},
   "source": [
    "**Úkol**: Jaký je rozdíl mezi `attached` a `detached` režimem běhu kontejneru?"
   ]
  },
  {
   "cell_type": "markdown",
   "id": "00739cbf",
   "metadata": {},
   "source": [
    "### Správa kontejnerů\n",
    "\n",
    "Běžící kontejnery lze vypsat příkazem `docker ps` (jou tak chápány trochu jako procesy)."
   ]
  },
  {
   "cell_type": "code",
   "execution_count": 3,
   "id": "bd2d765a",
   "metadata": {},
   "outputs": [
    {
     "name": "stdout",
     "output_type": "stream",
     "text": [
      "CONTAINER ID   IMAGE     COMMAND     CREATED       STATUS       PORTS     NAMES\r\n",
      "b07080839d0e   alpine    \"/bin/sh\"   2 hours ago   Up 2 hours             thirsty_rosalind\r\n"
     ]
    }
   ],
   "source": [
    "!docker ps"
   ]
  },
  {
   "cell_type": "markdown",
   "id": "cb621402",
   "metadata": {},
   "source": [
    "Alternativně lze běžící kolekce zobrazit příkazem  `docker container ls`."
   ]
  },
  {
   "cell_type": "code",
   "execution_count": 4,
   "id": "c0c8e1ff",
   "metadata": {},
   "outputs": [
    {
     "name": "stdout",
     "output_type": "stream",
     "text": [
      "CONTAINER ID   IMAGE     COMMAND     CREATED       STATUS       PORTS     NAMES\r\n",
      "b07080839d0e   alpine    \"/bin/sh\"   2 hours ago   Up 2 hours             thirsty_rosalind\r\n"
     ]
    }
   ],
   "source": [
    "!docker container ls"
   ]
  },
  {
   "cell_type": "markdown",
   "id": "ac93af7d",
   "metadata": {},
   "source": [
    "Příkazy ve tvaru `docker typ-objektu příkaz` jsou novější a nabízejí více možností. Např. zobrazení všech obrazů zajišťuje příkaz:"
   ]
  },
  {
   "cell_type": "code",
   "execution_count": 6,
   "id": "b60b1e74",
   "metadata": {},
   "outputs": [
    {
     "name": "stdout",
     "output_type": "stream",
     "text": [
      "REPOSITORY        TAG              IMAGE ID       CREATED        SIZE\r\n",
      "jfcz/hadoop       v1               9e7752104de8   2 days ago     234MB\r\n",
      "<none>            <none>           58ec8fcb9ec5   2 days ago     1.12GB\r\n",
      "jfcz/nosql        v1               4b40cb70d446   2 weeks ago    468MB\r\n",
      "<none>            <none>           e64b1a2fe759   2 weeks ago    468MB\r\n",
      "<none>            <none>           00b0fa14935a   2 weeks ago    468MB\r\n",
      "<none>            <none>           4b631aaab533   2 weeks ago    468MB\r\n",
      "<none>            <none>           fe6d3887287a   2 weeks ago    263MB\r\n",
      "<none>            <none>           6a7d1fccde89   2 weeks ago    243MB\r\n",
      "jfcz-nosql        latest           b1a3199ff822   2 weeks ago    72.8MB\r\n",
      "jfcz/nosql        <none>           b1a3199ff822   2 weeks ago    72.8MB\r\n",
      "python            buster           062c48fd2234   3 weeks ago    892MB\r\n",
      "postgres          latest           1ee973e26c65   3 weeks ago    376MB\r\n",
      "jf-python         latest           e8ec234f474d   4 weeks ago    62.1MB\r\n",
      "nosql_python      latest           7fc0adb27ece   4 weeks ago    57.4MB\r\n",
      "pycharm_helpers   PY-213.6777.50   97ae9e1a66e5   5 weeks ago    47.4MB\r\n",
      "redis             alpine           a685ab4e3381   5 weeks ago    32.4MB\r\n",
      "ubuntu            20.04            ff0fea8310f3   5 weeks ago    72.8MB\r\n",
      "postgres          14-alpine        7a4f195a9dbc   5 weeks ago    209MB\r\n",
      "python            3.8-alpine       b4722154b615   5 weeks ago    46.9MB\r\n",
      "python            3.9-alpine       e20778c717fe   5 weeks ago    47.5MB\r\n",
      "python            3.9              b2da6b57d190   5 weeks ago    914MB\r\n",
      "python            3                33ceb4320f06   5 weeks ago    919MB\r\n",
      "python            latest           33ceb4320f06   5 weeks ago    919MB\r\n",
      "busybox           latest           2fb6fc2d97e1   5 weeks ago    1.24MB\r\n",
      "mongo             latest           cb2388d1f0a5   7 weeks ago    698MB\r\n",
      "ubuntu            latest           54c9d81cbb44   2 months ago   72.8MB\r\n",
      "alpine            latest           c059bfaa849c   4 months ago   5.59MB\r\n",
      "hello-world       latest           feb5d9fea6a5   7 months ago   13.3kB\r\n"
     ]
    }
   ],
   "source": [
    "!docker image ls"
   ]
  },
  {
   "cell_type": "markdown",
   "id": "a0b8b399",
   "metadata": {},
   "source": [
    "vymazání všech obrazů, které nejsou využívány: `docker image prune` (obrazy jsou dost velké a mohou zbytečně zabírat místo ma disku)"
   ]
  },
  {
   "cell_type": "markdown",
   "id": "5dd09045",
   "metadata": {},
   "source": [
    "výmaz konkrétního obrazu:"
   ]
  },
  {
   "cell_type": "code",
   "execution_count": 12,
   "id": "3b19789d",
   "metadata": {},
   "outputs": [
    {
     "name": "stdout",
     "output_type": "stream",
     "text": [
      "Untagged: hello-world:latest\r\n",
      "Untagged: hello-world@sha256:97a379f4f88575512824f3b352bc03cd75e239179eea0fecc38e597b2209f49a\r\n",
      "Deleted: sha256:feb5d9fea6a5e9606aa995e879d862b825965ba48de054caab5ef356dc6b3412\r\n",
      "Deleted: sha256:e07ee1baac5fae6a26f30cabfe54a36d3402f96afda318fe0a96cec4ca393359\r\n"
     ]
    }
   ],
   "source": [
    "!docker image rm hello-world"
   ]
  },
  {
   "cell_type": "markdown",
   "id": "311acc7d",
   "metadata": {},
   "source": [
    "Užitečná je také možnost nedobrovolně ukončovat běžící kontejnery (což zahrnuje zabití procesů), jejich další prostředky však zůstávají. Pro úplné odstranění kontejneru je nutné využít příkazu."
   ]
  },
  {
   "cell_type": "code",
   "execution_count": 13,
   "id": "27cf9b5c",
   "metadata": {},
   "outputs": [
    {
     "name": "stdout",
     "output_type": "stream",
     "text": [
      "Error response from daemon: Cannot kill container: thirsty_rosalind: Container b07080839d0e54767a547f3ef1b22b2270818a438160b3e533c608f291ca1c7f is not running\r\n"
     ]
    }
   ],
   "source": [
    "!docker container kill thirsty_rosalind\n",
    "!docker container rm thirsty_rosalind"
   ]
  },
  {
   "cell_type": "markdown",
   "id": "76ece3a2",
   "metadata": {},
   "source": [
    "Kontejnery lze identifikovat jejich jménem (implicitně jsou tvořeny dvěma slovy adjektivum_substantivum, jméno lze uvést pří spuštění) nebo identifikátorem (= počátek sha256 otisku)."
   ]
  },
  {
   "cell_type": "markdown",
   "id": "1a72f9a6",
   "metadata": {},
   "source": [
    "Všechny pozastavené kontejnery lze odstranit příkazem `docker container prune`."
   ]
  },
  {
   "cell_type": "markdown",
   "id": "d276c1bd",
   "metadata": {},
   "source": [
    "Poznámka: Docker kontejnery mohou zaujímat podstatnou část disku a tak je vhodné tu a tam provést prořezání."
   ]
  },
  {
   "cell_type": "markdown",
   "id": "05ed1464",
   "metadata": {},
   "source": [
    "### Persistentní kontejnery a komunikace s kontejnerem prostřednictví TCP/IP\n",
    "\n",
    "Soubory vytvářené při běhu uvnitř kontejneru nejsou standardně persistentní, tj. data při dalším spuštění kontejneru je již nenajdete. Stejně tak jsou kontejnery při standardním spuštění důsledně izolovány, tj. komunikace s nimi není možná ani pomocí sdíleného souborového systému ani pomocí síťového rozhraní.\n",
    "\n",
    "Jako příklad vezměme oficiální obraz pro postgresql. Bezparametrické spuštění obrazu nefunguje. "
   ]
  },
  {
   "cell_type": "code",
   "execution_count": 15,
   "id": "deb86a3f",
   "metadata": {},
   "outputs": [
    {
     "name": "stdout",
     "output_type": "stream",
     "text": [
      "Error: Database is uninitialized and superuser password is not specified.\r\n",
      "       You must specify POSTGRES_PASSWORD to a non-empty value for the\r\n",
      "       superuser. For example, \"-e POSTGRES_PASSWORD=password\" on \"docker run\".\r\n",
      "\r\n",
      "       You may also use \"POSTGRES_HOST_AUTH_METHOD=trust\" to allow all\r\n",
      "       connections without a password. This is *not* recommended.\r\n",
      "\r\n",
      "       See PostgreSQL documentation about \"trust\":\r\n",
      "       https://www.postgresql.org/docs/current/auth-trust.html\r\n"
     ]
    }
   ],
   "source": [
    "!docker run postgres"
   ]
  },
  {
   "cell_type": "markdown",
   "id": "ffd81084",
   "metadata": {},
   "source": [
    "Doplníme tedy parametr se superuživatelským heslem ."
   ]
  },
  {
   "cell_type": "code",
   "execution_count": 16,
   "id": "63c6a0e8",
   "metadata": {},
   "outputs": [
    {
     "name": "stdout",
     "output_type": "stream",
     "text": [
      "The files belonging to this database system will be owned by user \"postgres\".\n",
      "This user must also own the server process.\n",
      "\n",
      "The database cluster will be initialized with locale \"en_US.utf8\".\n",
      "The default database encoding has accordingly been set to \"UTF8\".\n",
      "The default text search configuration will be set to \"english\".\n",
      "\n",
      "Data page checksums are disabled.\n",
      "\n",
      "fixing permissions on existing directory /var/lib/postgresql/data ... ok\n",
      "creating subdirectories ... ok\n",
      "selecting dynamic shared memory implementation ... posix\n",
      "selecting default max_connections ... 100\n",
      "selecting default shared_buffers ... 128MB\n",
      "selecting default time zone ... Etc/UTC\n",
      "creating configuration files ... ok\n",
      "running bootstrap script ... ok\n",
      "performing post-bootstrap initialization ... ok\n",
      "syncing data to disk ... ok\n",
      "\n",
      "\n",
      "Success. You can now start the database server using:\n",
      "\n",
      "    pg_ctl -D /var/lib/postgresql/data -l logfile start\n",
      "\n",
      "initdb: warning: enabling \"trust\" authentication for local connections\n",
      "You can change this by editing pg_hba.conf or using the option -A, or\n",
      "--auth-local and --auth-host, the next time you run initdb.\n",
      "waiting for server to start....2022-04-22 15:48:05.880 UTC [48] LOG:  starting PostgreSQL 14.2 (Debian 14.2-1.pgdg110+1) on x86_64-pc-linux-gnu, compiled by gcc (Debian 10.2.1-6) 10.2.1 20210110, 64-bit\n",
      "2022-04-22 15:48:05.890 UTC [48] LOG:  listening on Unix socket \"/var/run/postgresql/.s.PGSQL.5432\"\n",
      "2022-04-22 15:48:05.908 UTC [49] LOG:  database system was shut down at 2022-04-22 15:48:05 UTC\n",
      "2022-04-22 15:48:05.916 UTC [48] LOG:  database system is ready to accept connections\n",
      " done\n",
      "server started\n",
      "\n",
      "/usr/local/bin/docker-entrypoint.sh: ignoring /docker-entrypoint-initdb.d/*\n",
      "\n",
      "waiting for server to shut down....2022-04-22 15:48:06.014 UTC [48] LOG:  received fast shutdown request\n",
      "2022-04-22 15:48:06.020 UTC [48] LOG:  aborting any active transactions\n",
      "2022-04-22 15:48:06.021 UTC [48] LOG:  background worker \"logical replication launcher\" (PID 55) exited with exit code 1\n",
      "2022-04-22 15:48:06.021 UTC [50] LOG:  shutting down\n",
      "2022-04-22 15:48:06.064 UTC [48] LOG:  database system is shut down\n",
      " done\n",
      "server stopped\n",
      "\n",
      "PostgreSQL init process complete; ready for start up.\n",
      "\n",
      "2022-04-22 15:48:06.144 UTC [1] LOG:  starting PostgreSQL 14.2 (Debian 14.2-1.pgdg110+1) on x86_64-pc-linux-gnu, compiled by gcc (Debian 10.2.1-6) 10.2.1 20210110, 64-bit\n",
      "2022-04-22 15:48:06.144 UTC [1] LOG:  listening on IPv4 address \"0.0.0.0\", port 5432\n",
      "2022-04-22 15:48:06.144 UTC [1] LOG:  listening on IPv6 address \"::\", port 5432\n",
      "2022-04-22 15:48:06.154 UTC [1] LOG:  listening on Unix socket \"/var/run/postgresql/.s.PGSQL.5432\"\n",
      "2022-04-22 15:48:06.166 UTC [60] LOG:  database system was shut down at 2022-04-22 15:48:06 UTC\n",
      "2022-04-22 15:48:06.174 UTC [1] LOG:  database system is ready to accept connections\n",
      "^C\n",
      "2022-04-22 15:54:52.152 UTC [1] LOG:  received fast shutdown request\n",
      "2022-04-22 15:54:52.158 UTC [1] LOG:  aborting any active transactions\n",
      "2022-04-22 15:54:52.159 UTC [1] LOG:  background worker \"logical replication launcher\" (PID 66) exited with exit code 1\n",
      "2022-04-22 15:54:52.159 UTC [61] LOG:  shutting down\n",
      "2022-04-22 15:54:52.187 UTC [1] LOG:  database system is shut down\n"
     ]
    }
   ],
   "source": [
    "!docker run -e POSTGRES_PASSWORD=password postgres"
   ]
  },
  {
   "cell_type": "markdown",
   "id": "d80b2fc3",
   "metadata": {},
   "source": [
    "Teď už vše jak se zdá funguje. Má to však dva háky (označení `háček` dostatečně nevyjadřuje míru). Z prvé k databázi se nikdo externě nepřipojí A pokud by se mu to nakonec podařilo, databáze zapomene všechny změny po ukončení běhu kontejneru."
   ]
  },
  {
   "cell_type": "code",
   "execution_count": 18,
   "id": "070150e4",
   "metadata": {},
   "outputs": [
    {
     "name": "stdout",
     "output_type": "stream",
     "text": [
      "CONTAINER ID   IMAGE      COMMAND                  CREATED          STATUS          PORTS      NAMES\r\n",
      "a6e63632d4e8   postgres   \"docker-entrypoint.s…\"   49 seconds ago   Up 48 seconds   5432/tcp   unruffled_kepler\r\n"
     ]
    }
   ],
   "source": [
    "!docker ps"
   ]
  },
  {
   "cell_type": "code",
   "execution_count": 20,
   "id": "8ccc666c",
   "metadata": {},
   "outputs": [
    {
     "name": "stdout",
     "output_type": "stream",
     "text": [
      "unruffled_kepler\n",
      "unruffled_kepler\n"
     ]
    }
   ],
   "source": [
    "!docker container kill unruffled_kepler\n",
    "!docker container rm unruffled_kepler"
   ]
  },
  {
   "cell_type": "markdown",
   "id": "e9f50d50",
   "metadata": {},
   "source": [
    "Plnohodnotné využití těchto kontejnerů je potřeba doplnit ještě dva parametry:\n",
    "    \n",
    "1) mapování měněné části souborového systému na (měnitelnou) část souborového systému\n",
    "2) mapování exportovaných TCP/UDP portů\n",
    "\n",
    "V našem případě to znamená použít spuštění ve tvaru:\n",
    "\n",
    "`docker run -p 54320:5432 -v /tmp/datadir:/var/lib/postgresql/data -e POSTGRES_PASSWORD=password postgres`\n",
    "\n",
    "přepínač `-p` mapuje lokální port 5432 v kontejneru (standardní TCP/IP port Postgresql) na port 54320 na hostitelském počítači (ten může být libovolný, pokud nekoliduje s porty používaqnými službami na hostitelském počítači, v mém případě mi běží lokální nedockerizovaný PostgresSQL a tak jsem port musel změnit).\n",
    "\n",
    "\n",
    "přepínač `-v` mapuje (mountuje) adresář `/var/lib/postgresql/data` na adresář `/tmp/datadir`  na hostitelském OS (nepříliš vhodně zvolený adresář:). Jaký adresář je nutno mapovat se dozvíte v dokumentaci obrazu (zde https://github.com/docker-library/docs/blob/master/postgres/README.md)."
   ]
  },
  {
   "cell_type": "markdown",
   "id": "c2ab0383",
   "metadata": {},
   "source": [
    "![Jupyter](jupyter.png)"
   ]
  },
  {
   "cell_type": "code",
   "execution_count": null,
   "id": "4dd1ae4a",
   "metadata": {},
   "outputs": [],
   "source": []
  }
 ],
 "metadata": {
  "kernelspec": {
   "display_name": "Python 3 (ipykernel)",
   "language": "python",
   "name": "python3"
  },
  "language_info": {
   "codemirror_mode": {
    "name": "ipython",
    "version": 3
   },
   "file_extension": ".py",
   "mimetype": "text/x-python",
   "name": "python",
   "nbconvert_exporter": "python",
   "pygments_lexer": "ipython3",
   "version": "3.9.7"
  }
 },
 "nbformat": 4,
 "nbformat_minor": 5
}
