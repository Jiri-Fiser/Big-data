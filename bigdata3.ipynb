{
 "cells": [
  {
   "cell_type": "markdown",
   "metadata": {
    "id": "x1IYkNMiFrmw"
   },
   "source": [
    "# Technologie Hadoop a HDFS\n",
    "\n",
    "## Co se naučíte?\n",
    "\n",
    "* spustit kontejnery zajišťující minimální verzi Hadoopu\n",
    "* pochopíte principy map a reduce\n",
    "* vyzkoušíte si vytvořit jednoduchý program pro Hadoop \n",
    "\n",
    "[Apache Hadoop](https://hadoop.apache.org/) je open source framework je pro zpracování velkého množství nestrukurovaných dat, tedy např. velkého množství souborů. Mezi jeho hlavní vlastnosti patří to, že se jedná  distribuované a  škálovatelné prostředí zaměřené na vysokou dostupnost služeb.\n",
    "Součástí Hadoop je i distribuovaný souborový systém *HDFS* (Hadoop Distributed File System).\n",
    "\n",
    "Distribuovaná architektura systému znamená, že jednotlivé soubory jsou rozděleny do redundantních bloků, které jsou na různých místech (uzlech) systému. Škálovatelností rozumíme to, že je možné v případě požadavku do systému připojovat další uzly.\n",
    "V případě požadavku na zpracování, je úloha paralelizována a probíhá na dílčích uzlech systému. Dílčí výsledky je pak nutno složit dohromady v celkový výsledek. K tomu se používá principu *MapReduce*, viz **následující sheet**. Dokumentace je k dispozici [zde](https://hadoop.apache.org/docs/stable/hadoop-mapreduce-client/hadoop-mapreduce-client-core/MapReduceTutorial.html). \n",
    "\n",
    "Ekosystém *Hadoopu* v sobě obsahuje následující komponenty:\n",
    "\n",
    "\n",
    "*   [HDFS](https://hadoop.apache.org/docs/stable/hadoop-project-dist/hadoop-hdfs/HdfsDesign.html) - distribuovaný souborový systém.\n",
    "*   [YARN](https://hadoop.apache.org/docs/stable/hadoop-yarn/hadoop-yarn-site/YARN.html)(Yet Another Resource Negotiator) - zodpovědný za správu prostředků.\n",
    "*   [MapReduce](https://hadoop.apache.org/docs/stable/hadoop-mapreduce-client/hadoop-mapreduce-client-core/MapReduceTutorial.html) - zpracování dat\n",
    "* [Hadoop Common]((https://hadoop.apache.org/)) - pomocné nástroje pro podporu modulů\n",
    "\n",
    "Framework obashuje i další části např. [Mahout](https://mahout.apache.org//) pro distribuované numerické výpočty, či [Spark](https://spark.apache.org/) pro provádění analýz a nad daty.\n",
    "\n",
    "Základní filozofie Apache Hadoop je dobře popsána v knize *Big Data a NoSQL databáze* (Grada 2015) a to v kapitole 4 (strana 64, e-book lze zakoupit na https://www.grada.cz/big-data-a-nosql-databaze-8587/)\n",
    "\n",
    "Tento text obsahuje i ukázkovou implementaci programu vracející histogram slov, což je obdoba Hello world v oblasti big dat s detailním popisem, jak je program vykonáván. Zde se proto zaměřím je na tři praktické oblasti.\n",
    "\n",
    "* instalaci\n",
    "* praktická práce s HDFS\n",
    "* distribuované výpočty v Pythonu\n"
   ]
  },
  {
   "cell_type": "markdown",
   "metadata": {
    "id": "U-AgMIKpHlXy"
   },
   "source": [
    "## HDFS\n",
    "\n",
    "Architektura HDFS je taková, že data, tedy jednotlivé bloky souborů jsou uchovávány na datových uzlech tzv. *DataNodes* a za organizaci dat mezi uzly je zodpovědný *NameNode*, který uchovává metainformace o souborech. V případě výpadků datových uzlů, je *NameNode* schopen díky redundanci dat odkazovat požadavky na další datové uzly. \n",
    "Na obrázku, níže, je tato architektura  zachycena."
   ]
  },
  {
   "cell_type": "markdown",
   "metadata": {
    "id": "kozdUYHWNDbV"
   },
   "source": [
    "Architektura HDFS\n",
    "\n",
    "![hdfs-components-namenode-datanode-datanode.png](data:image/png;base64,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)\n",
    "\n",
    "Obrázek převzat ze zdroje:[https://phoenixnap.com/kb/apache-hadoop-architecture-explained](https://phoenixnap.com/kb/apache-hadoop-architecture-explained)"
   ]
  },
  {
   "cell_type": "markdown",
   "metadata": {
    "id": "4Bt2zUWfVMVh"
   },
   "source": [
    "Pro práci s HDFS budeme v dalším používat skript *hdfs*, který nám umožní provádět běžné operace nad souborovým systémem tak, jak je známe z prostředí systému linux. \n",
    "\n",
    "Syntaxe je následující \n",
    "\n",
    "```\n",
    "hdfs PRIKAZ [-volby]\n",
    "```\n",
    "Pro běžnou práci se soubory budeme používat příkaz *dfs*\n",
    "\n",
    "Tedy pokud chcem například vypsat obsah *rootu*, tak použijeme:\n",
    "\n",
    "```\n",
    "hdfs dfs -ls /\n",
    "```\n",
    "\n",
    "Pro vytvoření adresáře *userdata* v rootu:\n",
    "```\n",
    "hdfs dfs -mkdir /userdata\n",
    "```\n",
    "\n",
    "Pro vykopírováni dat do HDFS použijeme příkaz *put*. Tedy nakopírování lokálního souboru na cestě */home/Petr/data/soubor.txt* do HDFS */userdata* provedeme:\n",
    "```\n",
    "hdfs dfs -put /home/Petr/data/soubor.txt /userdata\n",
    "```\n",
    "\n",
    "Podobně v otočeném gardu použijeme příkaz *cat*, který čte data a posílá je na standardní výstup, [stdout](https://cs.wikipedia.org/wiki/Standardn%C3%AD_proudy).\n",
    "\n",
    "Další příkazy pro práce se soubory pomocí [dfs](https://hadoop.apache.org/docs/stable/hadoop-project-dist/hadoop-common/FileSystemShell.html).\n",
    "\n",
    "Příkaz *dfs* není jediným příkazem, pomocí kterého můžeme ovládat HDFS. Jsou zde různé příkazy pro roli administrátora, který musí zpravovat celý kluster, např. kontrola filesystému, balancování uzlů apod. Přehled je uveden [zde](https://hadoop.apache.org/docs/stable/hadoop-project-dist/hadoop-hdfs/HDFSCommands.html).\n",
    "\n",
    "\n"
   ]
  },
  {
   "cell_type": "markdown",
   "metadata": {
    "id": "n_XOoVDIDujt"
   },
   "source": [
    "## Zprovoznění Hadoop\n",
    "\n",
    "\n",
    "Pro naše použití  této technologie budeme používat jeho dockerizovanou verzi, která je ke stažení [zde](https://github.com/big-data-europe/docker-hadoop). V dalším předpokládám, že máte k dispozici linuxový stroj.\n",
    "\n",
    "Nejprve si vytvoříme lokální adresář:\n",
    "\n",
    "```\n",
    "mkdir hadoopdocker\n",
    "```\n",
    "\n",
    "poté z výše uvedeného odkazu na [git](https://github.com/big-data-europe/docker-hadoop) stáhneme celý repozitář a ve vytvořeném adresáři jej rozbalíme. Vznikne tím v něm adresář *docker-hadoop-master*, který již obsahuje potřebnou inrastrkuturu pro docker.\n",
    "Pomocí příkazu *cd* do něj vstoupíme:\n",
    "```\n",
    "cd hadoopdocker/docker-hadoop-master\n",
    "```\n",
    "Poté spustíme *docker*, musíme jej ovšem mít nainstalovaný na daném stroji, viz instalace [zde](https://docs.docker.com/get-docker/):\n",
    "```\n",
    "docker-compose up\n",
    "```\n",
    "Instalace všech potřebných náležitostí chvilku trvá. Při dalším spuštění stačí už jen provést poslední příkaz. Pokud chceme zastavit, tak příkaz:\n",
    "```\n",
    "docker-compose down\n",
    "\n",
    "```\n",
    "\n",
    "Ověření startu dockeru zajistíme pomocí:\n",
    "```\n",
    "docker ps\n",
    "```\n",
    "uvidíme pak, jednotlivé běžící komponenty ekosystému.\n"
   ]
  },
  {
   "cell_type": "markdown",
   "metadata": {
    "id": "I0bgQo79ohB4"
   },
   "source": [
    "### Ověření běhu dockerizovaného Hadoopu\n",
    "\n",
    "Je možné ověřit běh jednotlivých komponent systému. Lze použít buď postup udávaný [zde](https://www.section.io/engineering-education/set-up-containerize-and-test-a-single-hadoop-cluster-using-docker-and-docker-compose/). Nebo nejprve spustíme daný kontajner, viz výše. A do dalšího okna terminálu v adresáři příslušného kontajneru, v našem případě v *hadoopdocker/docker-hadoop-master*, napíšeme\n",
    "\n",
    "\n",
    "```\n",
    "docker network inspect docker-hadoop-master_default\n",
    "```\n",
    "Obdržíme následující výstup. Kde jsou vidět jednotlivé *ipadresy* dockerizovaných uzlů clusteru."
   ]
  },
  {
   "cell_type": "markdown",
   "metadata": {
    "id": "py-elL4Opnmt"
   },
   "source": [
    "### Výstup inspekce\n",
    "```\n",
    "[\n",
    "    {\n",
    "        \"Name\": \"docker-hadoop-master_default\",\n",
    "        \"Id\": \"fb2d1635f79ee60e325568f61b4597bdc9669b0c206212ae6bac349c93550cc8\",\n",
    "        \"Created\": \"2022-05-24T12:32:18.883154551+02:00\",\n",
    "        \"Scope\": \"local\",\n",
    "        \"Driver\": \"bridge\",\n",
    "        \"EnableIPv6\": false,\n",
    "        \"IPAM\": {\n",
    "            \"Driver\": \"default\",\n",
    "            \"Options\": null,\n",
    "            \"Config\": [\n",
    "                {\n",
    "                    \"Subnet\": \"172.21.0.0/16\",\n",
    "                    \"Gateway\": \"172.21.0.1\"\n",
    "                }\n",
    "            ]\n",
    "        },\n",
    "        \"Internal\": false,\n",
    "        \"Attachable\": true,\n",
    "        \"Ingress\": false,\n",
    "        \"ConfigFrom\": {\n",
    "            \"Network\": \"\"\n",
    "        },\n",
    "        \"ConfigOnly\": false,\n",
    "        \"Containers\": {\n",
    "            \"2b5295b820e17eedb8f98c70d146b428ff95105c5ae951bc41c83475a79fc9f3\": {\n",
    "                \"Name\": \"namenode\",\n",
    "                \"EndpointID\": \"04ad3f6bcad34a9aaac892fc6b63448a15dc1f52eb0febadbb7bc7421678938d\",\n",
    "                \"MacAddress\": \"02:42:ac:15:00:02\",\n",
    "                \"IPv4Address\": \"172.21.0.2/16\",\n",
    "                \"IPv6Address\": \"\"\n",
    "            },\n",
    "            \"47dfec0900648b7460821af1e29bc30cf62ae5eb317c91fcde80fc44dccb4c6d\": {\n",
    "                \"Name\": \"nodemanager\",\n",
    "                \"EndpointID\": \"a5e03d23760b5c31668dbb5876bb0b9c4fea6b689a72f8d6b76ba39145efd5fa\",\n",
    "                \"MacAddress\": \"02:42:ac:15:00:05\",\n",
    "                \"IPv4Address\": \"172.21.0.5/16\",\n",
    "                \"IPv6Address\": \"\"\n",
    "            },\n",
    "            \"69e8cb0f28cd7d49f89d2bc2026d38609b50507c654ea2d5457a3cd16226717e\": {\n",
    "                \"Name\": \"datanode\",\n",
    "                \"EndpointID\": \"bb6b4212ebceab24ba302dee297d211fd3019a64cabd106307088d93f3165c2c\",\n",
    "                \"MacAddress\": \"02:42:ac:15:00:06\",\n",
    "                \"IPv4Address\": \"172.21.0.6/16\",\n",
    "                \"IPv6Address\": \"\"\n",
    "            },\n",
    "            \"9806f318a018bd7770072e9737106e6679d226aaab8b0504c6c940aa784d8e64\": {\n",
    "                \"Name\": \"historyserver\",\n",
    "                \"EndpointID\": \"1860dc540733226af9853d0a966ebc8028ab7b2251ed7a10690ec6d6359b187a\",\n",
    "                \"MacAddress\": \"02:42:ac:15:00:04\",\n",
    "                \"IPv4Address\": \"172.21.0.4/16\",\n",
    "                \"IPv6Address\": \"\"\n",
    "            },\n",
    "            \"cc8e4827185bc24e934d67350231baab749def2762cd7ce7b0d683320f146f07\": {\n",
    "                \"Name\": \"resourcemanager\",\n",
    "                \"EndpointID\": \"b311317528c4fe2a2b1d52c0c2d9ca6ff40803317085329e104a5f0613e1daf5\",\n",
    "                \"MacAddress\": \"02:42:ac:15:00:03\",\n",
    "                \"IPv4Address\": \"172.21.0.3/16\",\n",
    "                \"IPv6Address\": \"\"\n",
    "            }\n",
    "        },\n",
    "        \"Options\": {},\n",
    "        \"Labels\": {\n",
    "            \"com.docker.compose.network\": \"default\",\n",
    "            \"com.docker.compose.project\": \"docker-hadoop-master\",\n",
    "            \"com.docker.compose.version\": \"1.25.0\"\n",
    "        }\n",
    "    }\n",
    "]\n",
    "\n",
    "```\n",
    "\n"
   ]
  },
  {
   "cell_type": "markdown",
   "metadata": {
    "id": "4qrg0gT_rCz-"
   },
   "source": [
    "K uvedeným uzlům, lze přistupovat pomocí uvedené adresy a portu v prohlížeči.\n",
    "Jednotlivé porty [dle](https://www.section.io/engineering-education/set-up-containerize-and-test-a-single-hadoop-cluster-using-docker-and-docker-compose/) jsou:\n",
    "*     datanode - port 9864\n",
    "*     nodemanager - port 8042\n",
    "*     namenode  - port 9870\n",
    "*     historyserver - port 8188\n",
    "*     resourcemanager - port 8088\n",
    "\n",
    "Napíšeme - li do adresního řádku prihlížeče (ipadresa, viz výše)\n",
    "```\n",
    "http://172.21.0.2:9870/\n",
    "```\n",
    "tak se dostaneme k webovému rozhraní *namenodu*. K ostatním uzlům je to podobné.\n",
    "\n",
    "\n"
   ]
  },
  {
   "cell_type": "markdown",
   "metadata": {
    "id": "Iu2rl_nTsy4W"
   },
   "source": [
    "### Spouštění příkazů\n",
    "\n",
    "Opět předpokládáme, že je spuštěný daný kontajner, a že se nacházíme v něm. V příkazové řádce si spustíme interaktivní shell běžící na *namenodu*:\n",
    "```\n",
    "docker exec -it namenode /bin/bash\n",
    "```\n",
    "\n",
    "Nejprve ověříme, co je v souborovém systému vytvořeno (nic):\n",
    "```\n",
    "hdfs dfs -ls /\n",
    "```\n",
    "a obdržíme něco podobného:\n",
    "\n",
    "\n",
    "```\n",
    "Found 1 items\n",
    "drwxr-xr-x   - root supergroup          0 2022-05-04 10:56 /rmstate\n",
    "```\n",
    "\n",
    "Nyní si vytvoříme adresář, do kterého budeme nahrávat soubory pro zpracování. Abychom dodrželi nějakou štábní kulturu (zjednodušuje se tím odkazovíní souborů), tak si pro uživatele *root* vytvoříme v adresáři *user* vlastní adresář (*root*) a v něm další adresář pro data (*data*). Protože jsme líní, tak to uděláme v jednom řádku, za použití přepínače *p*:\n",
    "```\n",
    "hdfs dfs -mkdir -p /user/root/data\n",
    "```\n",
    "V shellu můžeme vytvořit domovský adresář na HDFS systému (je to nutné pro další zpracování).\n",
    "\n",
    "A pro jistoti ověříme.\n",
    "\n",
    "```\n",
    "hdfs dfs -ls\n",
    "```\n",
    "\n",
    "(místo `hdfs dfs` lze využít `hadoop fs`).\n",
    "\n",
    "Do lokálního systému kontejneru stáhneme ukázkový soubor (i když je *Vojna a mír* pověstná bichle, zdaleka nezaplní ani jeden blok HDFS).\n",
    "\n",
    "```curl https://www.gutenberg.org/files/2600/2600-0.txt > war_and_peace.txt```\n",
    "\n",
    "\n",
    "```hdfs dfs -put ./war_and_peace.txt /user/root```\n",
    "\n",
    "\n",
    "> **Úkol**: Prozkoumejte a popřípadě vyzkoušejte další příkazy HDFS. (např. zde https://www.geeksforgeeks.org/hdfs-commands/)\n"
   ]
  },
  {
   "cell_type": "markdown",
   "metadata": {},
   "source": [
    "## Map-Reduce\n",
    "\n",
    "Základní mechanismus Hadoopu je implementace distribuovaného zpracování typu map a reduce. Detailní popis celého mechanismu je v *Big Data a NoSQL databáze* (včetně příkladu jeho využití v jazyce Java).\n",
    "\n",
    "Zde tedy jen stručně:\n",
    "\n",
    "Funkce `Map` slouží ke zpracování každého objektu z množiny vstupních dat (v tectovém vstupu je to typicky řádek) a jejím výstupem je jedna nebo více dvojic (klíč, hodnota) pro každý zpracovaný objekt.\n",
    "\n",
    "Funkce `Reduce` slouží ke sloučení výsledků (hodnot) pro jednotlivé klíče z předchozí fáze do celkového výsledku.\n",
    "\n",
    "Funkce `Map` realizuje funkcionál `map` (https://en.wikipedia.org/wiki/Map_(higher-order_function)) a `Reduce` funkcionál `fold` (https://en.wikipedia.org/wiki/Fold_(higher-order_function)). Ty jsou všeobecně užívané a to nikoliv jen ve funkcionálním programování. Hadoop však (při běžném nasazení) přináší masívní paralelismus.\n",
    "\n",
    "obecný tvar funkcí:\n",
    "\n",
    "Map: $K_1 \\times H_2 \\rightarrow K_2 \\times H_2$, kde $K_1$, $K_2$ jsou množiny klíčů a $H_1$, $H_2$ množiny hodnot\n",
    "\n",
    "Reduce: $(K_2, P(H_2)) \\rightarrow (K_2, P(H_2)$, kde druhý člen dvojice je neuspořádaná množina všech hodnot, které vrátila mapovací fáze s určitým klíčem (tj. prvek potenční množiny).\n",
    "\n",
    "Mezi oběma fázemi je nutno (distribuovaně) seskupit hodnoty se stejným klíčem, což je běžně zajištěno setříděním.\n",
    "\n",
    "Graficky si lze základní kroky znázornít například takto:\n",
    "\n",
    "![map & reduce](https://i.stack.imgur.com/oxR94.jpg)\n",
    "\n",
    "Výše uvedené kroky jsou základní (ovlivnit lze i další pomocné) a lze je přirozeně provádět i opakovaně."
   ]
  },
  {
   "cell_type": "markdown",
   "metadata": {},
   "source": [
    "## Hadoop streaming\n",
    "\n",
    "Hadoop přímo podporuje jen jediné vývojové prostředí — standardní Java SDK. Lze však využít tzv. *Hodoop streaming*, kdy jsou jednotlivé fáze (tj. minimálně mapovací a redukční) vykonávány libovolným programem očekávající vstupní data na standardní vstupu a produkujícím výstup na standardní.\n",
    "\n",
    "Distribuovaný program je tak možno napsat v téměř libovolném vývojovém prostředí včetně např. shellu. Zvlášť snadné je použití skriptovacích jazyků např. Pythonu. Je však třeba si uvědomit, že toto řešení není dokonalé, neboť vyžaduje instalaci běhových prostředí na všech uzlech (tj. například Pythonu). Není také nijak zvlášť efektivní neboť přináší dodatečnou režii se spuštěním jednotlivých procesů a vytvářením síťových socketů, které je spojují.\n",
    "\n",
    "To značně komplikuje použití výše uvedené dockerizované verze Hadoopu, jenž obsahuje pouze základní linuxové nástroje (založení na minimální instalaci Ubuntu). Použít lze pouze shell skripty, které moho využívaj jen základní aplikace. Pythho není k dispozici vůbec. Z tohoto důvodu je nutné dodat Python do některých Docker obrazů:\n",
    "\n",
    "1. do YARNu (správce prostředků)\n",
    "2. do workerů (`nodemanager`)"
   ]
  },
  {
   "cell_type": "markdown",
   "metadata": {},
   "source": [
    "Rozšířený Dockerfile pro pracovní uzel má následující tvar (obrazy jsou založeny na Debian Linuxu, a instalována je i knihovna `mrjob` využívaná v následující sekci):\n",
    "    \n",
    "```Dockerfile\n",
    "FROM bde2020/hadoop-nodemanager:2.0.0-hadoop3.2.1-java8\n",
    "\n",
    "RUN apt-get update && apt-get install -y python3 python3-pip\n",
    "RUN pip3 install mrjob\n",
    "```\n",
    "\n",
    "Podobně je změněn i obraz pro správce prostředků.\n",
    "\n",
    "> **Úkol**: Proveďte změny a modifikujte i yaml soubor pro vytváření kompozitního kontejneru."
   ]
  },
  {
   "cell_type": "markdown",
   "metadata": {},
   "source": [
    "Nyní připravíme dva skripty, které busdsou řešit klasický ukázkový příklad pro Hadoop — zjištění počtu výskytů jednotlivých slov (resp. jejich tvarů) v textovém souboru.\n",
    "\n",
    "První provádí mapování. Vstup můžeme interpretovat jako jedinou hodnotu (s prázdným klíčem) a je předán na standardním vstupem. Výstupem je množina dvojic klíč, hodnota, kde jednotlivé dvojice tvoří řádky (oddělovačem je tudíž odřádkování). Klíč je pak od hodnoty oddělen tabulátorem (což je pro Hadoop streaming standardní oddělovač)."
   ]
  },
  {
   "cell_type": "code",
   "execution_count": 4,
   "metadata": {},
   "outputs": [
    {
     "name": "stdout",
     "output_type": "stream",
     "text": [
      "Overwriting mapper.py\n"
     ]
    }
   ],
   "source": [
    "%%writefile mapper.py\n",
    "#!/usr/bin/env python3\n",
    "import sys\n",
    "\n",
    "for line in sys.stdin: # v každém řádku\n",
    "    words = line.split() # rozdělení na slova\n",
    "\n",
    "    for word in words: # pro každé slovo\n",
    "        print(f'{word}\\t{1}') # vrací dvojici (slovo, 1)"
   ]
  },
  {
   "cell_type": "markdown",
   "metadata": {},
   "source": [
    "Redukční skript je o něco komplexnější. Přijímá dvojice od mapperu a vrací součet hodnot. Protože každý výskyt slova je doprovázen hodnotou získáme jejich součtem celkový počet výskytů. Přitom se předokládá, že:\n",
    "\n",
    "* hodnoty pro každý jednotlivý klíč jsou zpracovány právě jedním uzlem `worker` (není nutné vytvářet součty součtů)\n",
    "* vstuoní dvojice jsou sařazené podle klíčů (tj. tvoří souvislou posloupnost řádků).\n",
    "\n",
    "Výstupem je dvojice, kde klíčem je opět slovo a hodnotou součet (obecně to může být i množina hodnot, v tomto případě je tudíž jednoprvková)."
   ]
  },
  {
   "cell_type": "code",
   "execution_count": 5,
   "metadata": {},
   "outputs": [
    {
     "name": "stdout",
     "output_type": "stream",
     "text": [
      "Overwriting reducer.py\n"
     ]
    }
   ],
   "source": [
    "%%writefile reducer.py\n",
    "#!/usr/bin/env python3\n",
    "import sys\n",
    "\n",
    "curr_word = None\n",
    "curr_count = 0\n",
    "\n",
    "\n",
    "for line in sys.stdin:\n",
    "    word, count = line.split('\\t')\n",
    "    count = int(count)\n",
    "\n",
    "    if word == curr_word: # slovo je \n",
    "        curr_count += count\n",
    "    else:\n",
    "        if curr_word:\n",
    "            print(f'{curr_word}\\t{curr_count}')\n",
    "        curr_word = word\n",
    "\n",
    "if curr_word == word: # pro poslední slovo\n",
    "    print(f'{curr_word}\\t{curr_count}')"
   ]
  },
  {
   "cell_type": "markdown",
   "metadata": {},
   "source": [
    "Nyní už můžeme v kontejneru správce prostředků spustit celý distribuovaný proces.\n",
    "\n",
    "`docker exec -it namenode /bin/bash`\n",
    "\n",
    "Nejdříve oba soubory označíme jako spustitelné.\n",
    "\n",
    "`# chmod a+x mapper.py reducer.py`\n",
    "\n",
    "Pak vyzkoušíme jak fungují lokálně (tj. nedistribuovaně), soubor `war_and_peace.txt` musí být v lokálním adresáři.\n",
    "\n",
    "`cat war_and_peace.txt | ./mapper.py | sort -t 1 | ./reducer.py`"
   ]
  },
  {
   "cell_type": "markdown",
   "metadata": {},
   "source": [
    "A nyní už můžeme spustit distribuované zpracování (proměnná shellu `HADOOP_HOME` musí obsahovat adresář hadoopu v lokálním souborovém systému kontejneru). Vstupní soubor musí být umístěn v HDFS v domovském adresáři uživatele.\n",
    "\n",
    "```bash\n",
    "$HADOOP_HOME/bin/hadoop jar\n",
    "$HADOOP_HOME/mapred/contrib/streaming/hadoop-streaming*.jar \\\n",
    "-files mapper.py,reducer.py \\\n",
    "-mapper mapper.py \\\n",
    "-reducer reducer.py \\\n",
    "-input /user/root/war_and_peace.txt -output /user/hduser/histogram.txt\n",
    "```"
   ]
  },
  {
   "cell_type": "markdown",
   "metadata": {},
   "source": [
    "> **Úkol**: Toto řešení je neefektivní, neboť mapper nemusí vracet dvojici pro každý výskyt slova (s hodnotou jedna), ale vždy jen jednu dvojici pro každéí slovo, které najde ve svém fragmentu vstupního souboru (hodnotou je jeho počet) tj. lokální histogram. Vytvořte tento efektivnější mapper (např, za pomoci kolekce `colections.Counter`)."
   ]
  },
  {
   "cell_type": "markdown",
   "metadata": {},
   "source": [
    "Rozdělení na dva skripty je nepřehledné a program nevyužívá žádný z typických konstrukcí Pythonu (není například objektový). Řešením je použití knihovny `mrjob`, která využívá Hadoop streaming, ale nabízí pythoničtější rozhraní."
   ]
  },
  {
   "cell_type": "code",
   "execution_count": null,
   "metadata": {},
   "outputs": [],
   "source": []
  }
 ],
 "metadata": {
  "colab": {
   "collapsed_sections": [],
   "name": "Hadoop-instalace.ipynb",
   "provenance": []
  },
  "kernelspec": {
   "display_name": "Python 3 (ipykernel)",
   "language": "python",
   "name": "python3"
  },
  "language_info": {
   "codemirror_mode": {
    "name": "ipython",
    "version": 3
   },
   "file_extension": ".py",
   "mimetype": "text/x-python",
   "name": "python",
   "nbconvert_exporter": "python",
   "pygments_lexer": "ipython3",
   "version": "3.9.7"
  }
 },
 "nbformat": 4,
 "nbformat_minor": 1
}
