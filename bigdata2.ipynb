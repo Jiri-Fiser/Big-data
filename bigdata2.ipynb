{
 "cells": [
  {
   "cell_type": "markdown",
   "id": "94ba403c",
   "metadata": {},
   "source": [
    "# Vytvoření vlastního obrazu\n",
    "\n",
    "## Co se naučíte?\n",
    "\n",
    "* vytvářet vlastní obrazy\n",
    "* využívat nástroj Docker Compose\n",
    "\n",
    "\n",
    "\n",
    "Vytvoření vlastního obrazu je v případě Dockeru relativně snadné a spočívá ve vytvoření souboru `Dickerfile` popisujícího obraz a následné vytvoření obrazu pomocí volání `docker build`."
   ]
  },
  {
   "cell_type": "markdown",
   "id": "604be12a",
   "metadata": {},
   "source": [
    "## Vytváření obrazu pro IPython\n",
    "\n",
    "Předokládejme, že chcete pro přítele  vytvořit jednoduchý obraz, který by mu umožnil snadné spouštění IPythonu (interaktivní REPL, z něhož je odvozen Jupyter, vystačí si však jen s konzolí). Navíc bychom rádi přidali i nějaký užitečný externí modul např. `requests`.\n",
    "\n",
    "Poznámka: pro nepřítele bychom zvolili jiný programovací jazyk:)"
   ]
  },
  {
   "cell_type": "markdown",
   "id": "3e37f263",
   "metadata": {},
   "source": [
    "Obsah souboru Dockerfile:\n",
    "\n",
    "```dockerfile\n",
    "FROM alpine\n",
    "\n",
    "RUN apk add ipython py3-pip\n",
    "RUN pip install requests\n",
    "\n",
    "WORKDIR /coder\n",
    "\n",
    "ENTRYPOINT \"/usr/bin/ipython\"\n",
    "```"
   ]
  },
  {
   "cell_type": "markdown",
   "id": "944f029b",
   "metadata": {},
   "source": [
    "Příkaz `FROM` určuje obraz, který budeme rozšiřovat. Typicky je to nějaká odlehčená distribuce Linuxu. Zvlášť oblíbeny je *Alpine Linux* s nároky v řádu vyšších jednotek MiB. Alias jména posledního obrazu této distribuce je `alpine`.\n",
    "\n",
    "Další vrstvu přidá volání příkazu `apk`, což je v Alpine manažer balíčků. Zde přidáme balíčky `ipython` a `py3-pip` a balíčky závislé (bude jich nakonec celých padesát).\n",
    "\n",
    "Další vrstvu získáme použitím správce Python modulů `pip` (ten jsme si nainstalovali v předchozím kroku).\n",
    "\n",
    "Tím máme hotovu hlavní část práce a zbývá nám jen vytvoření pracovního adresáře pro případné soubory. To zajistá příkaz `WORKDIR`, který změní pracovní adresář (všechny případné další příkazy budou vykonány v tomto adesáři) a pokud neexistuje, tak ho vytvoří (i s případnými meziadresáři).\n",
    "\n",
    "Ṕoslední příkaz definuje standardní vstupní bod kontejneru, což je typicky buď spuštění hlavní aplikace (zde je to *ipython*) resp. spuštění shellu.\n",
    "\n",
    "V vadresáři, kde jste soubor `Dockerfile` vytvořili, nyní stačí spustit příkaz `docker build -t \"ipython\" .`, kde parametr `-t` určuje jméno obrazu (pokud bude lokální stačí zvolit jednoduché jméno, při případném exportu do repozitáře je nutné dodržovat jisté zásady). Posledním parametrem je pracovní adresář, zde `.` (tečka)\n",
    "\n",
    "**Otázka**: Proč jsou kolem jména (tagu) obrazu uvozovky?"
   ]
  },
  {
   "cell_type": "markdown",
   "id": "3915878a",
   "metadata": {},
   "source": [
    "Nyní je možné spustit a to příkazem `docker run  -it ipython`."
   ]
  },
  {
   "cell_type": "markdown",
   "id": "2868e4d9",
   "metadata": {},
   "source": [
    "**Úkol**: Zjistěte jakou velikost má námi vytvořený obraz?"
   ]
  },
  {
   "cell_type": "markdown",
   "id": "d891c9cb",
   "metadata": {},
   "source": [
    "**Úkol**: Vytvořte obraz, který poskytuje symbolické výpočty v jazyce Julia (vychozí obraz `julia:alpine`) s přidaným balíkem `Symbolics`. Vyzkoušejte pro derivování :)"
   ]
  },
  {
   "cell_type": "markdown",
   "id": "c24ea654",
   "metadata": {},
   "source": [
    "Nevýhodou výše uvedeného `Dockerfile` je  malá pružnost, neboť uživatel může požadovat i další externí moduly. Může si je sice doinstalovat i uvnitř IPythonu, ale ty zmizí spolu se zánikem kontejneru (kontejnery nejsou persistentní). Při větším počtu modulů bude seznam za `pip` dlouhý a tak je vhodnější číst jména modulů z externího souboru.\n",
    "\n",
    "Proto Dockerfile mírně pozměníme."
   ]
  },
  {
   "cell_type": "markdown",
   "id": "b1d7ed82",
   "metadata": {},
   "source": [
    "```dockerfile\n",
    "FROM alpine\n",
    "\n",
    "COPY requirements.txt .\n",
    "\n",
    "RUN apk add ipython py3-pip\n",
    "RUN pip install -r requirements.txt\n",
    "\n",
    "WORKDIR /coder\n",
    "\n",
    "ENTRYPOINT \"/usr/bin/ipython\"\n",
    "```"
   ]
  },
  {
   "cell_type": "markdown",
   "id": "fa770dd3",
   "metadata": {},
   "source": [
    "Novinkou je příkaz `COPY`, který při tvorbě obrazu (nikoliv při jeho spuštění) kopíruje soubor z hostitelského souborového systému (první parametr) do umístění v souborovém systému obrazu (zde do aktuálního adresáře, což je v daném místě kořenový adresář).\n",
    "\n",
    "Soubor `requirements.txt` musí být při budování obrazu ce stejném adresáři jako `Dockerfile` a musí obsahovat jména požadovaných modulů (každý na jednom řádku), např.\n",
    "```\n",
    "requests\n",
    "urllib3\n",
    "```"
   ]
  },
  {
   "cell_type": "markdown",
   "id": "5a7d4e4c",
   "metadata": {},
   "source": [
    "### Vytváření obrazu pro Jupyter Notebook\n",
    "\n",
    "Tento obrat spustí server *Jupyter notebooků* na standartním portu, který bude dostupný i zvenčí."
   ]
  },
  {
   "cell_type": "markdown",
   "id": "a35d722d",
   "metadata": {},
   "source": [
    "```dockerfile\n",
    "FROM python:3.9-alpine\n",
    "\n",
    "RUN apk add --update --no-cache build-base linux-headers libffi-dev\n",
    "RUN pip install notebook\n",
    "\n",
    "COPY entrypoint.sh /\n",
    "\n",
    "ENTRYPOINT [\"/bin/sh\",  \"/entrypoint.sh\"]\n",
    "EXPOSE 8888\n",
    "```"
   ]
  },
  {
   "cell_type": "markdown",
   "id": "0a69c7aa",
   "metadata": {},
   "source": [
    "Obraz tentokrát vychází z oficiálního obrazu Pythonu 3.9 (v Alpine Linuxu), aby nebylo nutné instalovat relativně rozsáhlý Python. Do Alpine Linuxu je nutno doinstalovat překladač C s knihovnami a hlavičkovými soubory (kromě standardních i ty linuxovské). Navíc je potřeba knihovna `libffi` i s hlavičkovýni soubory (zjištěno empiricky, jinak se podpora pro Jupyter notebook nepřeloží). Přidání podpory notebooku zajistí `pip`. \n",
    "\n",
    "Vstupním bodem, je tentokrát skript, který je zkopírován do kořenového adresáře kontejnerového FS. Skript spouští jupyter notebook server (kernel) s několika nezbytnými parametry.\n",
    "\n",
    "`NotebookApp.token` — při přihlášení není prováděna autentizace tokenem (komplikuje to přihlášení a je to relativně bezpečné, neboť kompromitovatelný by měl být kontejner)\n",
    "\n",
    "`ip` — server poskytuje své služby na implicitní (vnější) adrese (implicitně je to `localhost` a byl by tudíž viditelný jen uvnitř kontejneru). Port zůstává standardní (tj. 8888).\n",
    "\n",
    "`no-browser` — nespouští se automaticky prohlížeč (žádný není v kontejneru nainstalován, k serveru se bude přihlašovat prohlížeč v hostitelském OS)\n",
    "\n",
    "`--allow-root` — kontejner se spouští s právy roota (což by bylo vně kontejneru nebezpečné a tak je to implicitně zakázané)\n"
   ]
  },
  {
   "cell_type": "markdown",
   "id": "6e090b10",
   "metadata": {},
   "source": [
    "```bash\n",
    "jupyter notebook --NotebookApp.token='' --ip 0.0.0.0 --no-browser --allow-root\n",
    "```"
   ]
  },
  {
   "cell_type": "markdown",
   "id": "94ade32c",
   "metadata": {},
   "source": [
    "Příkaz `ENTRYPOINT` využívá alternativní syntaxi, v němž jsou jednotlivé části příkazového řádku předány jako prvky seznamu.\n",
    "\n",
    "Příkaz `EXPOSE` exportuje port síťového rozhraní (zde standardní port Jupyter Notebooku)."
   ]
  },
  {
   "cell_type": "markdown",
   "id": "c9fbbf7c",
   "metadata": {},
   "source": [
    "Obraz se vybuduje příkazem (není interaktivní, lze spustit i jako detached):\n",
    "\n",
    "`docker build -t \"jupyter\" .`\n",
    "    \n",
    "a spuští příkazem:\n",
    "    \n",
    "`docker run -p 8889:8888 jupyter`\n",
    "\n",
    "Port serveru je v hostitelském localhostu namapován na port 8889 (původní port je využíván lokálním jupyter server, v rámci něhož vzniká tato opora).\n",
    "\n",
    "K serveru se pak lze (v hostitelském OS) připojit na adrese *localhost:8889*."
   ]
  },
  {
   "cell_type": "markdown",
   "id": "3d047457",
   "metadata": {},
   "source": [
    "![Jupyter](jupyter.png)"
   ]
  },
  {
   "cell_type": "markdown",
   "id": "597c6ad6",
   "metadata": {},
   "source": [
    "**Otázka:** Jak byste ověřilo, že jste se připojili ke správnému (kontejnerizovanému) notebook serveru?\n",
    "    \n",
    "**Úkol:** Vytvořené notebooky nejsou presistentní. Zajistěte aby byly?"
   ]
  },
  {
   "cell_type": "markdown",
   "id": "5e5e1af7",
   "metadata": {},
   "source": [
    "Při návrhu obrazu je nutné zohlednit skutečnost, kontejnerizované systémy jsou minimální (neběží v nich ani běžné služby). Například následující Dockerfile nevyprodukuje použitelný obraz."
   ]
  },
  {
   "cell_type": "markdown",
   "id": "3e8c74e0",
   "metadata": {},
   "source": [
    "```dockerfile\n",
    "FROM ubuntu\n",
    "\n",
    "RUN apt-get install mc\n",
    "\n",
    "ENTRYPOINT /bin/sh\n",
    "```"
   ]
  },
  {
   "cell_type": "markdown",
   "id": "e48d4c0c",
   "metadata": {},
   "source": [
    "**Úkol**: Upravte obraz tak aby byl funkční."
   ]
  },
  {
   "cell_type": "markdown",
   "id": "64893eb6",
   "metadata": {},
   "source": [
    "## Docker Compose\n",
    "\n",
    "Jednou z nevýhod Docker obrazů jsou omezené možnosti skládání (komposabilita). Obrazy lze sice snadno rozšiřovat, ale nelze je jednoduše skládat.\n",
    "\n",
    "Ukažme si to například na požadavku vytvoření vývojového prostředí pro testování pythonského přístupu k databázi Redis. Pro Python i Redis existují oficiální obrazy a nabízejí se tak dvě cesty:\n",
    "\n",
    "* využít oficiální obraz Pythonu a v něm doinstalovat Redis \n",
    "* využít oficiální obraz Redisu a v něm doinstalovat Python\n",
    "\n",
    "I když jsou obě možnosti použitelné (první je z důvodů výrazně větší komplexity Pythonu proti Redisu vhodnější), mají určité nevýhody:\n",
    "\n",
    "* v případě využití oficiálního obrazu je aktualiace výrazně snadnější (nezávisí na mechanismu aktualizacé kontejnerového OS)\n",
    "* může docházet ke kolizím "
   ]
  },
  {
   "cell_type": "markdown",
   "id": "43ef47f1",
   "metadata": {},
   "source": [
    "Řešení nabízí `docker-compose`, který umožňuje spouštět a především propojovat několik kontejnerů a to prostřednictvím:\n",
    "\n",
    "1) síťového rozhraní (kontejnery navzájem vidí své porty a jsou dostupné přes jednoduché DNS adresy)\n",
    "2) mohou sdílet souborové systémy (*volumes*)"
   ]
  },
  {
   "cell_type": "markdown",
   "id": "26599598",
   "metadata": {},
   "source": [
    "Popis vícekontejnerového kompozita obsahuje soubor ve formátu YAML s přímočarou syntaxí.\n",
    "\n",
    "Ukázka definuje kompositum, jenž vzniká instanciací tří obrazů (za běhu tedy obsahuje tři kontejnery)\n",
    "\n",
    "1) výše uvedený obraz pro jupyter (pro skutečně užitečné použití je ho nutné trochu rozšířit)\n",
    "2) oficiální obraz pro NoSQL databázi `Redis`\n",
    "3) oficiální obraz pro NoSQL databází `Mongo`\n",
    "\n",
    "```yaml\n",
    "version: \"3.2\"\n",
    "services:\n",
    "  python:\n",
    "    image: \"jupyter\"\n",
    "    stdin_open: true # docker run -i\n",
    "    tty: true        # docker run -t\n",
    "    volumes:\n",
    "      - ./coder:/home/coder\n",
    "    ports:\n",
    "      - \"2242:22\"\n",
    "  redis:\n",
    "    image: \"redis:alpine\"\n",
    "  mongodb:\n",
    "    image: \"mongo\"\n",
    "    restart: always\n",
    "    environment:\n",
    "      MONGO_INITDB_ROOT_USERNAME: root\n",
    "      MONGO_INITDB_ROOT_PASSWORD: root\n",
    "    volumes:\n",
    "      - ./data:/data/db\n",
    "```"
   ]
  },
  {
   "cell_type": "markdown",
   "id": "50c74f7c",
   "metadata": {},
   "source": [
    "Jádrem konfiguračního souborů je sekce `services`, která obsahuje podsekce, jež definují jednotlivé kontejnery.\n",
    "V těchto podsekcích jsou pak uvedeny parametry odpovídající volání `docker run`.\n",
    "\n",
    "Kontejnery  po spuštění tvoří virtuální síť, v níž jsou jednotlivé kontejnery (v roli hosts) identifikovány jménem příslušné sekce a nabízejí porty uvedené v sekci `EXPOSES` dockerfilu. Mimo tuto síť (v hostitelském localhostu) jsou vidět jen porty mapované v sekci `ports`."
   ]
  },
  {
   "cell_type": "markdown",
   "id": "1e4a5091",
   "metadata": {},
   "source": [
    "**Úkol** : Doplňte obraz `jupyter`, tak aby byl užitečný v rámci kompozita."
   ]
  },
  {
   "cell_type": "markdown",
   "id": "344b1115",
   "metadata": {},
   "source": [
    "Spuštění všech komponent se děje příkazem:\n",
    "```\n",
    "docker-compose up\n",
    "```\n",
    "přičem konfigurace musí být uložena v souboru `docker-compose.yml` v aktuálním pracovním adresáři.\n",
    "\n",
    "Komponenty se ukončují příkazem, `docker-compose down` (kontejnery jsou zároveň odstraněny stejně jako jimi vlastněné prostředky).\n",
    "\n",
    "Praktické je i zobrazení běžících kontejnerů příkazem `docker-compose ps`."
   ]
  },
  {
   "cell_type": "markdown",
   "id": "338b7aa9",
   "metadata": {},
   "source": [
    "**Úkol**: Vytvořte kompositum python + flask využívající `nginx` http server a ověřte ho v praxi."
   ]
  }
 ],
 "metadata": {
  "kernelspec": {
   "display_name": "Python 3 (ipykernel)",
   "language": "python",
   "name": "python3"
  },
  "language_info": {
   "codemirror_mode": {
    "name": "ipython",
    "version": 3
   },
   "file_extension": ".py",
   "mimetype": "text/x-python",
   "name": "python",
   "nbconvert_exporter": "python",
   "pygments_lexer": "ipython3",
   "version": "3.9.7"
  }
 },
 "nbformat": 4,
 "nbformat_minor": 5
}
